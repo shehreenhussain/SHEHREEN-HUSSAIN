{
 "cells": [
  {
   "cell_type": "code",
   "execution_count": null,
   "id": "cf23d8e9-ce22-4a09-b4a1-a5c4a101d5e9",
   "metadata": {},
   "outputs": [],
   "source": [
    "#SHEHREEN HUSSAIN \n",
    "#FA24-BBD-081"
   ]
  },
  {
   "cell_type": "code",
   "execution_count": 5,
   "id": "fbf007c9-e081-42a3-a605-ff6e8313303f",
   "metadata": {},
   "outputs": [
    {
     "name": "stdout",
     "output_type": "stream",
     "text": [
      "1\n",
      "2\n",
      "3\n",
      "4\n",
      "5\n",
      "6\n",
      "7\n",
      "8\n",
      "9\n",
      "10\n"
     ]
    }
   ],
   "source": [
    "\n",
    "##QUESTION NO 1  #Counting with While Loop\n",
    "i=1\n",
    "while i<=10:\n",
    "    print(i)\n",
    "    i+=1\n",
    "    "
   ]
  },
  {
   "cell_type": "code",
   "execution_count": 7,
   "id": "6e903167-9d98-4f0f-b864-6ee4f50bc331",
   "metadata": {},
   "outputs": [
    {
     "name": "stdout",
     "output_type": "stream",
     "text": [
      "1 2 3 4 5 6 7 8 9 10 \n",
      "The sum of the first 10 natural numbers is: 55\n"
     ]
    }
   ],
   "source": [
    "## QUESTION NO 3    # Sum of Natural Numbers\n",
    "n = 1        \n",
    "sum = 0      \n",
    "\n",
    "while n <= 10:\n",
    "    print(n,end=' ')\n",
    "    sum += n    \n",
    "    n += 1      \n",
    "print(\"\\nThe sum of the first 10 natural numbers is:\", sum)\n"
   ]
  },
  {
   "cell_type": "code",
   "execution_count": 9,
   "id": "04a59cb5-326f-4e1b-9bc7-32498364ed5e",
   "metadata": {},
   "outputs": [
    {
     "name": "stdin",
     "output_type": "stream",
     "text": [
      "Enter a number or enter negative number to exit:  -9\n"
     ]
    },
    {
     "name": "stdout",
     "output_type": "stream",
     "text": [
      "The total sum of the numbers entered  0\n"
     ]
    }
   ],
   "source": [
    "## QUESTION NO 4   # User Input with Condition \n",
    "sum = 0\n",
    "while True:\n",
    "    num=int(input(\"Enter a number or enter negative number to exit: \"))\n",
    "    if num < 0:\n",
    "        break\n",
    "    sum+=num\n",
    "print(\"The total sum of the numbers entered \",sum)\n"
   ]
  },
  {
   "cell_type": "code",
   "execution_count": 7,
   "id": "fe1607e6-2cd1-4023-b794-87ed1b3edb9e",
   "metadata": {},
   "outputs": [
    {
     "name": "stdin",
     "output_type": "stream",
     "text": [
      "Guess a number b/w 1 and 100 or enter exit to end game:  99\n"
     ]
    },
    {
     "name": "stdout",
     "output_type": "stream",
     "text": [
      "Too high!\n"
     ]
    },
    {
     "name": "stdin",
     "output_type": "stream",
     "text": [
      "Guess a number b/w 1 and 100 or enter exit to end game:  22\n"
     ]
    },
    {
     "name": "stdout",
     "output_type": "stream",
     "text": [
      "Too low!\n"
     ]
    },
    {
     "name": "stdin",
     "output_type": "stream",
     "text": [
      "Guess a number b/w 1 and 100 or enter exit to end game:  65\n"
     ]
    },
    {
     "name": "stdout",
     "output_type": "stream",
     "text": [
      "Too high!\n"
     ]
    },
    {
     "name": "stdin",
     "output_type": "stream",
     "text": [
      "Guess a number b/w 1 and 100 or enter exit to end game:  exit\n"
     ]
    },
    {
     "name": "stdout",
     "output_type": "stream",
     "text": [
      "Game end succesfully\n"
     ]
    }
   ],
   "source": [
    "## QUESTION NO 5   #Number Guessing Game \n",
    "num='42'  \n",
    "guess = 0\n",
    "while guess != num:\n",
    "    guess= input(\"Guess a number b/w 1 and 100 or enter exit to end game: \")\n",
    "    if guess.lower()=='exit':\n",
    "        print(\"Game end succesfully\")\n",
    "        break\n",
    "    elif guess < num:\n",
    "        print(\"Too low!\")\n",
    "    elif guess > num:\n",
    "        print(\"Too high!\")\n",
    "    else:\n",
    "        print(\"You guessed it right.\")"
   ]
  },
  {
   "cell_type": "code",
   "execution_count": 1,
   "id": "7a596686-1c8e-4a63-b64c-e34ddf40d78d",
   "metadata": {},
   "outputs": [
    {
     "name": "stdin",
     "output_type": "stream",
     "text": [
      "Enter a positive integer:  2\n"
     ]
    },
    {
     "name": "stdout",
     "output_type": "stream",
     "text": [
      "Factorial: 2\n"
     ]
    }
   ],
   "source": [
    "## QUESTION NO 6   # Factorial Calculation\n",
    "num = int(input(\"Enter a positive integer: \"))\n",
    "factorial=1\n",
    "x=1\n",
    "while x <= num:\n",
    "    factorial *= x\n",
    "    x+=1\n",
    "print(\"Factorial:\", factorial)\n"
   ]
  },
  {
   "cell_type": "code",
   "execution_count": 3,
   "id": "12a40021-f498-4f1a-9c63-44eaeca3b095",
   "metadata": {},
   "outputs": [
    {
     "name": "stdin",
     "output_type": "stream",
     "text": [
      "Enter a number or('done' to calculate average):  7\n",
      "Enter a number or('done' to calculate average):  5\n",
      "Enter a number or('done' to calculate average):  4\n",
      "Enter a number or('done' to calculate average):  3\n",
      "Enter a number or('done' to calculate average):  2\n",
      "Enter a number or('done' to calculate average):  1\n",
      "Enter a number or('done' to calculate average):  done\n"
     ]
    },
    {
     "name": "stdout",
     "output_type": "stream",
     "text": [
      "Average: 3.6666666666666665\n"
     ]
    }
   ],
   "source": [
    "## QUESTION NO 7  #Average Calculator\n",
    "total=0\n",
    "count=0\n",
    "while True:\n",
    "    num = input(\"Enter a number or('done' to calculate average): \")\n",
    "    if num.lower()== \"done\":\n",
    "        break\n",
    "    total+=float(num)\n",
    "    count += 1\n",
    "print(\"Average:\", total / count )\n"
   ]
  },
  {
   "cell_type": "code",
   "execution_count": 5,
   "id": "dfca6c13-afbb-4014-9e69-962ef2691565",
   "metadata": {},
   "outputs": [
    {
     "name": "stdin",
     "output_type": "stream",
     "text": [
      "Enter a number: 5\n"
     ]
    },
    {
     "name": "stdout",
     "output_type": "stream",
     "text": [
      "0 1 1 2 3 5 "
     ]
    }
   ],
   "source": [
    "## QUESTION NO 8  #Fibonacci Sequence  \n",
    "n = int(input(\"Enter a number:\"))\n",
    "a=0\n",
    "b=1\n",
    "while a <= n:\n",
    "    print(a, end=\" \")\n",
    "    a, b = b, a + b\n"
   ]
  },
  {
   "cell_type": "code",
   "execution_count": null,
   "id": "31fa47e8-841b-4301-846f-2467a59b6725",
   "metadata": {},
   "outputs": [],
   "source": []
  }
 ],
 "metadata": {
  "kernelspec": {
   "display_name": "Python 3 (ipykernel)",
   "language": "python",
   "name": "python3"
  },
  "language_info": {
   "codemirror_mode": {
    "name": "ipython",
    "version": 3
   },
   "file_extension": ".py",
   "mimetype": "text/x-python",
   "name": "python",
   "nbconvert_exporter": "python",
   "pygments_lexer": "ipython3",
   "version": "3.12.4"
  }
 },
 "nbformat": 4,
 "nbformat_minor": 5
}
